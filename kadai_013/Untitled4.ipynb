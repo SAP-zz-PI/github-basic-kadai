{
  "nbformat": 4,
  "nbformat_minor": 0,
  "metadata": {
    "colab": {
      "provenance": []
    },
    "kernelspec": {
      "name": "python3",
      "display_name": "Python 3"
    },
    "language_info": {
      "name": "python"
    }
  },
  "cells": [
    {
      "cell_type": "code",
      "execution_count": 2,
      "metadata": {
        "colab": {
          "base_uri": "https://localhost:8080/"
        },
        "id": "UbRVBTrJ6jo_",
        "outputId": "6982d03e-3000-4696-cad0-91620f557e6f"
      },
      "outputs": [
        {
          "output_type": "stream",
          "name": "stdout",
          "text": [
            "200\n"
          ]
        }
      ],
      "source": [
        "def keisankekka(kingaku: int,shohizei: int ):\n",
        " return kingaku + shohizei\n",
        "\n",
        "#print(keisankekka(100,10))"
      ]
    }
  ]
}