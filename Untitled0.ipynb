{
  "nbformat": 4,
  "nbformat_minor": 0,
  "metadata": {
    "colab": {
      "provenance": [],
      "authorship_tag": "ABX9TyN3j2Vnaz7eGvVC8i/TFcWE",
      "include_colab_link": true
    },
    "kernelspec": {
      "name": "python3",
      "display_name": "Python 3"
    },
    "language_info": {
      "name": "python"
    }
  },
  "cells": [
    {
      "cell_type": "markdown",
      "metadata": {
        "id": "view-in-github",
        "colab_type": "text"
      },
      "source": [
        "<a href=\"https://colab.research.google.com/github/SAP-zz-PI/github-basic-kadai/blob/main/Untitled0.ipynb\" target=\"_parent\"><img src=\"https://colab.research.google.com/assets/colab-badge.svg\" alt=\"Open In Colab\"/></a>"
      ]
    },
    {
      "cell_type": "code",
      "execution_count": 3,
      "metadata": {
        "colab": {
          "base_uri": "https://localhost:8080/"
        },
        "id": "VH8nO4vV4P45",
        "outputId": "11999184-7d99-4ac8-ce30-dce752145cf3"
      },
      "outputs": [
        {
          "output_type": "stream",
          "name": "stdout",
          "text": [
            "面積は75.0cm2です。\n"
          ]
        }
      ],
      "source": [
        "johen=10\n",
        "kahen=20\n",
        "takasa=5\n",
        "\n",
        "menseki=(johen+kahen)*takasa/2\n",
        "\n",
        "print(f\"面積は{menseki}cm2です。\")"
      ]
    }
  ]
}