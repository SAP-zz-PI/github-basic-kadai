{
  "cells": [
    {
      "cell_type": "code",
      "execution_count": 17,
      "metadata": {
        "colab": {
          "base_uri": "https://localhost:8080/"
        },
        "id": "XbkpwRS_BmLy",
        "outputId": "fb384eb4-c174-4198-9160-75aff21288d1"
      },
      "outputs": [
        {
          "output_type": "stream",
          "name": "stdout",
          "text": [
            "大人ではありません。\n",
            "大人です。\n",
            "大人です。\n"
          ]
        }
      ],
      "source": [
        "class Human:\n",
        "    def __init__(self,name,age):\n",
        "        self.name = name\n",
        "        self.age = int(age)\n",
        "\n",
        "    # メソッドを定義する\n",
        "    def printinfo(self):\n",
        "        print(\"名前は、\" + self.name + \"年齢は\" + str(self.age) + \"です。\")\n",
        "\n",
        "    def check_adult(self):\n",
        "        if self.age >= 20:\n",
        "          print(\"大人です。\")\n",
        "        else:\n",
        "          print(\"大人ではありません。\")\n",
        "\n",
        "# インスタンス化する\n",
        "human=[Human(\"佐々木\",19),Human(\"鈴木\",20),Human(\"田中\",21)]\n",
        "\n",
        "for a in human:\n",
        "    a.check_adult()\n"
      ]
    },
    {
      "cell_type": "code",
      "execution_count": null,
      "metadata": {
        "id": "AzJ7-jfTOHMi"
      },
      "outputs": [],
      "source": []
    }
  ],
  "metadata": {
    "colab": {
      "provenance": []
    },
    "kernelspec": {
      "display_name": "Python 3",
      "name": "python3"
    },
    "language_info": {
      "name": "python"
    }
  },
  "nbformat": 4,
  "nbformat_minor": 0
}