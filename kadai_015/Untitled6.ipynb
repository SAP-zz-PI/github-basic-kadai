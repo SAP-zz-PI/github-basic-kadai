{
  "nbformat": 4,
  "nbformat_minor": 0,
  "metadata": {
    "colab": {
      "provenance": []
    },
    "kernelspec": {
      "name": "python3",
      "display_name": "Python 3"
    },
    "language_info": {
      "name": "python"
    }
  },
  "cells": [
    {
      "cell_type": "code",
      "execution_count": 5,
      "metadata": {
        "colab": {
          "base_uri": "https://localhost:8080/"
        },
        "id": "XbkpwRS_BmLy",
        "outputId": "ad343c68-fef6-40b2-bc62-e2b033bdd12e"
      },
      "outputs": [
        {
          "output_type": "stream",
          "name": "stdout",
          "text": [
            "名前は、佐々木年齢は30です。\n"
          ]
        }
      ],
      "source": [
        "class Human:\n",
        "    def __init__(self,name,age):\n",
        "        self.name = name\n",
        "        self.age = age\n",
        "\n",
        "    # メソッドを定義する\n",
        "    def printinfo(self):\n",
        "        print(\"名前は、\" + self.name + \"年齢は\" + str(self.age) + \"です。\")\n",
        "\n",
        "# インスタンス化する\n",
        "sasaki = Human(\"佐々木\",30)\n",
        "\n",
        "sasaki.printinfo()\n"
      ]
    }
  ]
}