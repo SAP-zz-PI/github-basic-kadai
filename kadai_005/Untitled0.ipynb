{
  "nbformat": 4,
  "nbformat_minor": 0,
  "metadata": {
    "colab": {
      "provenance": []
    },
    "kernelspec": {
      "name": "python3",
      "display_name": "Python 3"
    },
    "language_info": {
      "name": "python"
    }
  },
  "cells": [
    {
      "cell_type": "code",
      "execution_count": 3,
      "metadata": {
        "colab": {
          "base_uri": "https://localhost:8080/"
        },
        "id": "VH8nO4vV4P45",
        "outputId": "11999184-7d99-4ac8-ce30-dce752145cf3"
      },
      "outputs": [
        {
          "output_type": "stream",
          "name": "stdout",
          "text": [
            "面積は75.0cm2です。\n"
          ]
        }
      ],
      "source": [
        "johen=10\n",
        "kahen=20\n",
        "takasa=5\n",
        "\n",
        "menseki=(johen+kahen)*takasa/2\n",
        "\n",
        "print(f\"面積は{menseki}cm2です。\")"
      ]
    }
  ]
}